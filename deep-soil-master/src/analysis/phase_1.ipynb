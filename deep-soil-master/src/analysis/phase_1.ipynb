{
 "cells": [
  {
   "cell_type": "code",
   "execution_count": 1,
   "metadata": {},
   "outputs": [],
   "source": [
    "import numpy as np\n",
    "import pandas as pd\n",
    "import seaborn as sns\n",
    "import matplotlib.pyplot as plt\n",
    "from datetime import datetime\n",
    "from datetime import timedelta\n",
    "import math\n",
    "\n",
    "import warnings\n",
    "warnings.filterwarnings('ignore')"
   ]
  },
  {
   "cell_type": "markdown",
   "metadata": {},
   "source": [
    "# Read Data and Initial Inspection\n",
    "\n",
    "Phase 1: original data"
   ]
  },
  {
   "cell_type": "code",
   "execution_count": 2,
   "metadata": {},
   "outputs": [
    {
     "data": {
      "text/html": [
       "<div>\n",
       "<style scoped>\n",
       "    .dataframe tbody tr th:only-of-type {\n",
       "        vertical-align: middle;\n",
       "    }\n",
       "\n",
       "    .dataframe tbody tr th {\n",
       "        vertical-align: top;\n",
       "    }\n",
       "\n",
       "    .dataframe thead th {\n",
       "        text-align: right;\n",
       "    }\n",
       "</style>\n",
       "<table border=\"1\" class=\"dataframe\">\n",
       "  <thead>\n",
       "    <tr style=\"text-align: right;\">\n",
       "      <th></th>\n",
       "      <th>Archive No</th>\n",
       "      <th>D (m)</th>\n",
       "      <th>l</th>\n",
       "      <th>m (kg)</th>\n",
       "      <th>v (m/s)</th>\n",
       "      <th>E (kPa)</th>\n",
       "      <th>cu (kPa)</th>\n",
       "      <th>E/cu</th>\n",
       "      <th>G/cu</th>\n",
       "      <th>Total penetration/ D</th>\n",
       "      <th>Time of travel (s)</th>\n",
       "      <th>Initial Kinetic Energy = mv2/2 (kgm2/s2)</th>\n",
       "      <th>(cupD3/4) (kgm2/s2)</th>\n",
       "      <th>(mv2/2)/ (cupD3/4)</th>\n",
       "    </tr>\n",
       "  </thead>\n",
       "  <tbody>\n",
       "    <tr>\n",
       "      <th>0</th>\n",
       "      <td>1</td>\n",
       "      <td>0.04</td>\n",
       "      <td>0.0</td>\n",
       "      <td>0.1</td>\n",
       "      <td>5</td>\n",
       "      <td>100</td>\n",
       "      <td>1</td>\n",
       "      <td>100</td>\n",
       "      <td>33.333333</td>\n",
       "      <td>4.0678</td>\n",
       "      <td>0.06678</td>\n",
       "      <td>1.25</td>\n",
       "      <td>0.050265</td>\n",
       "      <td>24.867960</td>\n",
       "    </tr>\n",
       "    <tr>\n",
       "      <th>1</th>\n",
       "      <td>3</td>\n",
       "      <td>0.04</td>\n",
       "      <td>0.0</td>\n",
       "      <td>0.2</td>\n",
       "      <td>5</td>\n",
       "      <td>100</td>\n",
       "      <td>1</td>\n",
       "      <td>100</td>\n",
       "      <td>33.333333</td>\n",
       "      <td>7.9759</td>\n",
       "      <td>0.13092</td>\n",
       "      <td>2.50</td>\n",
       "      <td>0.050265</td>\n",
       "      <td>49.735920</td>\n",
       "    </tr>\n",
       "    <tr>\n",
       "      <th>2</th>\n",
       "      <td>13</td>\n",
       "      <td>0.04</td>\n",
       "      <td>0.0</td>\n",
       "      <td>0.1</td>\n",
       "      <td>10</td>\n",
       "      <td>500</td>\n",
       "      <td>5</td>\n",
       "      <td>100</td>\n",
       "      <td>33.333333</td>\n",
       "      <td>3.2486</td>\n",
       "      <td>0.02578</td>\n",
       "      <td>5.00</td>\n",
       "      <td>0.251327</td>\n",
       "      <td>19.894368</td>\n",
       "    </tr>\n",
       "    <tr>\n",
       "      <th>3</th>\n",
       "      <td>16</td>\n",
       "      <td>0.04</td>\n",
       "      <td>0.0</td>\n",
       "      <td>0.2</td>\n",
       "      <td>10</td>\n",
       "      <td>500</td>\n",
       "      <td>5</td>\n",
       "      <td>100</td>\n",
       "      <td>33.333333</td>\n",
       "      <td>5.7715</td>\n",
       "      <td>0.04606</td>\n",
       "      <td>10.00</td>\n",
       "      <td>0.251327</td>\n",
       "      <td>39.788736</td>\n",
       "    </tr>\n",
       "    <tr>\n",
       "      <th>4</th>\n",
       "      <td>19</td>\n",
       "      <td>0.04</td>\n",
       "      <td>0.0</td>\n",
       "      <td>0.5</td>\n",
       "      <td>5</td>\n",
       "      <td>500</td>\n",
       "      <td>5</td>\n",
       "      <td>100</td>\n",
       "      <td>33.333333</td>\n",
       "      <td>4.2121</td>\n",
       "      <td>0.06164</td>\n",
       "      <td>6.25</td>\n",
       "      <td>0.251327</td>\n",
       "      <td>24.867960</td>\n",
       "    </tr>\n",
       "  </tbody>\n",
       "</table>\n",
       "</div>"
      ],
      "text/plain": [
       "   Archive No  D (m)    l  m (kg)  v (m/s)  E (kPa)  cu (kPa)  E/cu  \\\n",
       "0           1   0.04  0.0     0.1        5      100         1   100   \n",
       "1           3   0.04  0.0     0.2        5      100         1   100   \n",
       "2          13   0.04  0.0     0.1       10      500         5   100   \n",
       "3          16   0.04  0.0     0.2       10      500         5   100   \n",
       "4          19   0.04  0.0     0.5        5      500         5   100   \n",
       "\n",
       "        G/cu  Total penetration/ D  Time of travel (s)   \\\n",
       "0  33.333333                4.0678              0.06678   \n",
       "1  33.333333                7.9759              0.13092   \n",
       "2  33.333333                3.2486              0.02578   \n",
       "3  33.333333                5.7715              0.04606   \n",
       "4  33.333333                4.2121              0.06164   \n",
       "\n",
       "   Initial Kinetic Energy = mv2/2 (kgm2/s2)  (cupD3/4) (kgm2/s2)  \\\n",
       "0                                      1.25             0.050265   \n",
       "1                                      2.50             0.050265   \n",
       "2                                      5.00             0.251327   \n",
       "3                                     10.00             0.251327   \n",
       "4                                      6.25             0.251327   \n",
       "\n",
       "   (mv2/2)/ (cupD3/4)  \n",
       "0           24.867960  \n",
       "1           49.735920  \n",
       "2           19.894368  \n",
       "3           39.788736  \n",
       "4           24.867960  "
      ]
     },
     "execution_count": 2,
     "metadata": {},
     "output_type": "execute_result"
    }
   ],
   "source": [
    "dataPath = '../../data/'\n",
    "dataset = pd.read_csv(dataPath+'Clean_RawData.csv')\n",
    "dataset.head()"
   ]
  },
  {
   "cell_type": "code",
   "execution_count": 3,
   "metadata": {},
   "outputs": [
    {
     "name": "stdout",
     "output_type": "stream",
     "text": [
      "<class 'pandas.core.frame.DataFrame'>\n",
      "RangeIndex: 223 entries, 0 to 222\n",
      "Data columns (total 14 columns):\n",
      "Archive No                                  223 non-null int64\n",
      "D (m)                                       223 non-null float64\n",
      "l                                           223 non-null float64\n",
      "m (kg)                                      223 non-null float64\n",
      "v (m/s)                                     223 non-null int64\n",
      "E (kPa)                                     223 non-null int64\n",
      "cu (kPa)                                    223 non-null int64\n",
      "E/cu                                        223 non-null int64\n",
      "G/cu                                        223 non-null float64\n",
      "Total penetration/ D                        223 non-null float64\n",
      "Time of travel (s)                          223 non-null float64\n",
      "Initial Kinetic Energy = mv2/2 (kgm2/s2)    223 non-null float64\n",
      "(cupD3/4) (kgm2/s2)                         223 non-null float64\n",
      "(mv2/2)/ (cupD3/4)                          223 non-null float64\n",
      "dtypes: float64(9), int64(5)\n",
      "memory usage: 24.5 KB\n"
     ]
    }
   ],
   "source": [
    "dataset.info()"
   ]
  },
  {
   "cell_type": "markdown",
   "metadata": {},
   "source": [
    "Nothing looks weird so far; data columns are all numeric.\n",
    "\n",
    "The names of the columns, however, are not gonna be convenient for coding, so I am simplifying them for now and we can later on revert them back to original names if desired."
   ]
  },
  {
   "cell_type": "code",
   "execution_count": 4,
   "metadata": {},
   "outputs": [],
   "source": [
    "def simplifyNames(df, names):\n",
    "    df.rename(columns = names, inplace = True)\n",
    "\n",
    "def reventBackNames(df, names):\n",
    "    invNames = {v: k for k, v in names.items()}\n",
    "    df.rename(columns = invNames, inplace = True)"
   ]
  },
  {
   "cell_type": "code",
   "execution_count": 5,
   "metadata": {},
   "outputs": [
    {
     "name": "stdout",
     "output_type": "stream",
     "text": [
      "<class 'pandas.core.frame.DataFrame'>\n",
      "RangeIndex: 223 entries, 0 to 222\n",
      "Data columns (total 14 columns):\n",
      "id        223 non-null int64\n",
      "d         223 non-null float64\n",
      "lambda    223 non-null float64\n",
      "m         223 non-null float64\n",
      "v         223 non-null int64\n",
      "e         223 non-null int64\n",
      "cu        223 non-null int64\n",
      "e/cu      223 non-null int64\n",
      "g/cu      223 non-null float64\n",
      "tp/d      223 non-null float64\n",
      "tt        223 non-null float64\n",
      "ike       223 non-null float64\n",
      "cup       223 non-null float64\n",
      "ke/cup    223 non-null float64\n",
      "dtypes: float64(9), int64(5)\n",
      "memory usage: 24.5 KB\n"
     ]
    }
   ],
   "source": [
    "columnNames = {'Archive No': 'id','D (m)': 'd', 'l': 'lambda', 'm (kg)': 'm', 'v (m/s)': 'v', 'E (kPa)': 'e', 'cu (kPa)': 'cu', \n",
    "               'E/cu': 'e/cu', 'G/cu': 'g/cu', 'Total penetration/ D': 'tp/d', 'Time of travel (s) ': 'tt',\n",
    "               'Initial Kinetic Energy = mv2/2 (kgm2/s2)': 'ike', '(cupD3/4) (kgm2/s2)': 'cup', '(mv2/2)/ (cupD3/4)': 'ke/cup'}\n",
    "\n",
    "simplifyNames(dataset, columnNames)\n",
    "dataset.info()"
   ]
  },
  {
   "cell_type": "markdown",
   "metadata": {},
   "source": [
    "### Missing Values"
   ]
  },
  {
   "cell_type": "code",
   "execution_count": 6,
   "metadata": {},
   "outputs": [
    {
     "data": {
      "text/plain": [
       "id        0\n",
       "d         0\n",
       "lambda    0\n",
       "m         0\n",
       "v         0\n",
       "e         0\n",
       "cu        0\n",
       "e/cu      0\n",
       "g/cu      0\n",
       "tp/d      0\n",
       "tt        0\n",
       "ike       0\n",
       "cup       0\n",
       "ke/cup    0\n",
       "dtype: int64"
      ]
     },
     "execution_count": 6,
     "metadata": {},
     "output_type": "execute_result"
    }
   ],
   "source": [
    "dataset.isnull().sum()"
   ]
  },
  {
   "cell_type": "markdown",
   "metadata": {},
   "source": [
    "PERFECT; there is no missing values... Well we did expect it as these are data generated from simulation, so indeed there won't be any missing values... daahhh :)"
   ]
  },
  {
   "cell_type": "markdown",
   "metadata": {},
   "source": [
    "# EDA"
   ]
  },
  {
   "cell_type": "code",
   "execution_count": 7,
   "metadata": {},
   "outputs": [
    {
     "data": {
      "image/png": "[encoded data removed]",
      "text/plain": [
       "<matplotlib.figure.Figure at 0x9bde961b00>"
      ]
     },
     "metadata": {},
     "output_type": "display_data"
    }
   ],
   "source": [
    "cols = ['d', 'lambda', 'm', 'v', 'e', 'cu', 'tp/d', 'tt']\n",
    "sns.pairplot(dataset[cols], height = 2.5)\n",
    "plt.show();"
   ]
  },
  {
   "cell_type": "markdown",
   "metadata": {},
   "source": [
    "looks like there are some extreme e, cu, time and penetration parameters. But for now we will keep them in as I believe they will help with the interpolation rather than extrapolation! \n",
    "\n",
    "In this regards, I am also curious to see how many various instances we have per target variable variation?... "
   ]
  },
  {
   "cell_type": "code",
   "execution_count": 8,
   "metadata": {},
   "outputs": [
    {
     "name": "stdout",
     "output_type": "stream",
     "text": [
      "for value 100 of variable e there are 14 instances in the dataset.\n",
      "for value 500 of variable e there are 46 instances in the dataset.\n",
      "for value 1000 of variable e there are 46 instances in the dataset.\n",
      "for value 2500 of variable e there are 32 instances in the dataset.\n",
      "for value 200 of variable e there are 20 instances in the dataset.\n",
      "for value 2000 of variable e there are 19 instances in the dataset.\n",
      "for value 5000 of variable e there are 32 instances in the dataset.\n",
      "for value 12500 of variable e there are 14 instances in the dataset.\n",
      "for value 1 of variable cu there are 56 instances in the dataset.\n",
      "for value 5 of variable cu there are 71 instances in the dataset.\n",
      "for value 10 of variable cu there are 58 instances in the dataset.\n",
      "for value 25 of variable cu there are 38 instances in the dataset.\n",
      "for value 0.0 of variable lambda there are 48 instances in the dataset.\n",
      "for value 0.1 of variable lambda there are 89 instances in the dataset.\n",
      "for value 0.2 of variable lambda there are 86 instances in the dataset.\n"
     ]
    }
   ],
   "source": [
    "targetCols = ['e', 'cu', 'lambda']\n",
    "for col in targetCols:\n",
    "    for val in dataset[col].unique():\n",
    "        filteredData = dataset[dataset[col] == val]\n",
    "        print(\"for value\", val, \"of variable\", col, \"there are\", filteredData.shape[0], \"instances in the dataset.\")"
   ]
  },
  {
   "cell_type": "markdown",
   "metadata": {},
   "source": [
    "Interesting! Above analysis shows that for some values of target variable, particularly in case of Young's Modulus, there are values with number of instances as low as 14! This should still be alright, but we need to be careful when we form our Train/Test splits of the dataset."
   ]
  },
  {
   "cell_type": "markdown",
   "metadata": {},
   "source": [
    "### Correlations"
   ]
  },
  {
   "cell_type": "code",
   "execution_count": 9,
   "metadata": {},
   "outputs": [
    {
     "data": {
      "text/html": [
       "<div>\n",
       "<style scoped>\n",
       "    .dataframe tbody tr th:only-of-type {\n",
       "        vertical-align: middle;\n",
       "    }\n",
       "\n",
       "    .dataframe tbody tr th {\n",
       "        vertical-align: top;\n",
       "    }\n",
       "\n",
       "    .dataframe thead th {\n",
       "        text-align: right;\n",
       "    }\n",
       "</style>\n",
       "<table border=\"1\" class=\"dataframe\">\n",
       "  <thead>\n",
       "    <tr style=\"text-align: right;\">\n",
       "      <th></th>\n",
       "      <th>d</th>\n",
       "      <th>m</th>\n",
       "      <th>v</th>\n",
       "      <th>tp/d</th>\n",
       "      <th>tt</th>\n",
       "      <th>lambda</th>\n",
       "      <th>e</th>\n",
       "      <th>cu</th>\n",
       "    </tr>\n",
       "  </thead>\n",
       "  <tbody>\n",
       "    <tr>\n",
       "      <th>d</th>\n",
       "      <td>1.000000</td>\n",
       "      <td>0.171369</td>\n",
       "      <td>0.284365</td>\n",
       "      <td>-0.312248</td>\n",
       "      <td>-0.078955</td>\n",
       "      <td>0.170552</td>\n",
       "      <td>-0.209341</td>\n",
       "      <td>-0.300248</td>\n",
       "    </tr>\n",
       "    <tr>\n",
       "      <th>m</th>\n",
       "      <td>0.171369</td>\n",
       "      <td>1.000000</td>\n",
       "      <td>-0.000480</td>\n",
       "      <td>0.220268</td>\n",
       "      <td>0.189846</td>\n",
       "      <td>-0.008402</td>\n",
       "      <td>0.188830</td>\n",
       "      <td>0.265778</td>\n",
       "    </tr>\n",
       "    <tr>\n",
       "      <th>v</th>\n",
       "      <td>0.284365</td>\n",
       "      <td>-0.000480</td>\n",
       "      <td>1.000000</td>\n",
       "      <td>-0.005942</td>\n",
       "      <td>-0.435421</td>\n",
       "      <td>0.093523</td>\n",
       "      <td>0.276841</td>\n",
       "      <td>0.364458</td>\n",
       "    </tr>\n",
       "    <tr>\n",
       "      <th>tp/d</th>\n",
       "      <td>-0.312248</td>\n",
       "      <td>0.220268</td>\n",
       "      <td>-0.005942</td>\n",
       "      <td>1.000000</td>\n",
       "      <td>0.740233</td>\n",
       "      <td>-0.381876</td>\n",
       "      <td>-0.174410</td>\n",
       "      <td>-0.139742</td>\n",
       "    </tr>\n",
       "    <tr>\n",
       "      <th>tt</th>\n",
       "      <td>-0.078955</td>\n",
       "      <td>0.189846</td>\n",
       "      <td>-0.435421</td>\n",
       "      <td>0.740233</td>\n",
       "      <td>1.000000</td>\n",
       "      <td>-0.318218</td>\n",
       "      <td>-0.335149</td>\n",
       "      <td>-0.406026</td>\n",
       "    </tr>\n",
       "    <tr>\n",
       "      <th>lambda</th>\n",
       "      <td>0.170552</td>\n",
       "      <td>-0.008402</td>\n",
       "      <td>0.093523</td>\n",
       "      <td>-0.381876</td>\n",
       "      <td>-0.318218</td>\n",
       "      <td>1.000000</td>\n",
       "      <td>-0.076738</td>\n",
       "      <td>-0.096936</td>\n",
       "    </tr>\n",
       "    <tr>\n",
       "      <th>e</th>\n",
       "      <td>-0.209341</td>\n",
       "      <td>0.188830</td>\n",
       "      <td>0.276841</td>\n",
       "      <td>-0.174410</td>\n",
       "      <td>-0.335149</td>\n",
       "      <td>-0.076738</td>\n",
       "      <td>1.000000</td>\n",
       "      <td>0.747132</td>\n",
       "    </tr>\n",
       "    <tr>\n",
       "      <th>cu</th>\n",
       "      <td>-0.300248</td>\n",
       "      <td>0.265778</td>\n",
       "      <td>0.364458</td>\n",
       "      <td>-0.139742</td>\n",
       "      <td>-0.406026</td>\n",
       "      <td>-0.096936</td>\n",
       "      <td>0.747132</td>\n",
       "      <td>1.000000</td>\n",
       "    </tr>\n",
       "  </tbody>\n",
       "</table>\n",
       "</div>"
      ],
      "text/plain": [
       "               d         m         v      tp/d        tt    lambda         e  \\\n",
       "d       1.000000  0.171369  0.284365 -0.312248 -0.078955  0.170552 -0.209341   \n",
       "m       0.171369  1.000000 -0.000480  0.220268  0.189846 -0.008402  0.188830   \n",
       "v       0.284365 -0.000480  1.000000 -0.005942 -0.435421  0.093523  0.276841   \n",
       "tp/d   -0.312248  0.220268 -0.005942  1.000000  0.740233 -0.381876 -0.174410   \n",
       "tt     -0.078955  0.189846 -0.435421  0.740233  1.000000 -0.318218 -0.335149   \n",
       "lambda  0.170552 -0.008402  0.093523 -0.381876 -0.318218  1.000000 -0.076738   \n",
       "e      -0.209341  0.188830  0.276841 -0.174410 -0.335149 -0.076738  1.000000   \n",
       "cu     -0.300248  0.265778  0.364458 -0.139742 -0.406026 -0.096936  0.747132   \n",
       "\n",
       "              cu  \n",
       "d      -0.300248  \n",
       "m       0.265778  \n",
       "v       0.364458  \n",
       "tp/d   -0.139742  \n",
       "tt     -0.406026  \n",
       "lambda -0.096936  \n",
       "e       0.747132  \n",
       "cu      1.000000  "
      ]
     },
     "execution_count": 9,
     "metadata": {},
     "output_type": "execute_result"
    },
    {
     "data": {
      "image/png": "[encoded data removed]",
      "text/plain": [
       "<matplotlib.figure.Figure at 0x9be8beebe0>"
      ]
     },
     "metadata": {},
     "output_type": "display_data"
    }
   ],
   "source": [
    "#correlation matrix\n",
    "corrmat = dataset[['d', 'm', 'v', 'tp/d', 'tt', 'lambda', 'e', 'cu']].corr()\n",
    "f, ax = plt.subplots(figsize=(10, 6))\n",
    "sns.heatmap(corrmat, vmax=0.8, square=True)\n",
    "corrmat"
   ]
  },
  {
   "cell_type": "markdown",
   "metadata": {},
   "source": [
    "# Feature Engineering\n",
    "\n",
    "This is to investigate if we can benefit from other more complext features (built from the original feature set). Our metric for value of new features would be impact on correlations;"
   ]
  },
  {
   "cell_type": "markdown",
   "metadata": {},
   "source": [
    "### 'e/cu' and 'g/cu' instead of 'e' and 'cu'\n",
    "\n",
    "Note that 'e' and 'cu' can be calculated if 'e/cu' and 'g/cu' are known."
   ]
  },
  {
   "cell_type": "code",
   "execution_count": 10,
   "metadata": {},
   "outputs": [
    {
     "data": {
      "text/html": [
       "<div>\n",
       "<style scoped>\n",
       "    .dataframe tbody tr th:only-of-type {\n",
       "        vertical-align: middle;\n",
       "    }\n",
       "\n",
       "    .dataframe tbody tr th {\n",
       "        vertical-align: top;\n",
       "    }\n",
       "\n",
       "    .dataframe thead th {\n",
       "        text-align: right;\n",
       "    }\n",
       "</style>\n",
       "<table border=\"1\" class=\"dataframe\">\n",
       "  <thead>\n",
       "    <tr style=\"text-align: right;\">\n",
       "      <th></th>\n",
       "      <th>d</th>\n",
       "      <th>m</th>\n",
       "      <th>v</th>\n",
       "      <th>tp/d</th>\n",
       "      <th>tt</th>\n",
       "      <th>e/cu</th>\n",
       "      <th>g/cu</th>\n",
       "    </tr>\n",
       "  </thead>\n",
       "  <tbody>\n",
       "    <tr>\n",
       "      <th>d</th>\n",
       "      <td>1.000000</td>\n",
       "      <td>0.171369</td>\n",
       "      <td>0.284365</td>\n",
       "      <td>-0.312248</td>\n",
       "      <td>-0.078955</td>\n",
       "      <td>0.062980</td>\n",
       "      <td>0.062980</td>\n",
       "    </tr>\n",
       "    <tr>\n",
       "      <th>m</th>\n",
       "      <td>0.171369</td>\n",
       "      <td>1.000000</td>\n",
       "      <td>-0.000480</td>\n",
       "      <td>0.220268</td>\n",
       "      <td>0.189846</td>\n",
       "      <td>-0.001963</td>\n",
       "      <td>-0.001963</td>\n",
       "    </tr>\n",
       "    <tr>\n",
       "      <th>v</th>\n",
       "      <td>0.284365</td>\n",
       "      <td>-0.000480</td>\n",
       "      <td>1.000000</td>\n",
       "      <td>-0.005942</td>\n",
       "      <td>-0.435421</td>\n",
       "      <td>0.016201</td>\n",
       "      <td>0.016201</td>\n",
       "    </tr>\n",
       "    <tr>\n",
       "      <th>tp/d</th>\n",
       "      <td>-0.312248</td>\n",
       "      <td>0.220268</td>\n",
       "      <td>-0.005942</td>\n",
       "      <td>1.000000</td>\n",
       "      <td>0.740233</td>\n",
       "      <td>-0.150852</td>\n",
       "      <td>-0.150852</td>\n",
       "    </tr>\n",
       "    <tr>\n",
       "      <th>tt</th>\n",
       "      <td>-0.078955</td>\n",
       "      <td>0.189846</td>\n",
       "      <td>-0.435421</td>\n",
       "      <td>0.740233</td>\n",
       "      <td>1.000000</td>\n",
       "      <td>-0.085432</td>\n",
       "      <td>-0.085432</td>\n",
       "    </tr>\n",
       "    <tr>\n",
       "      <th>e/cu</th>\n",
       "      <td>0.062980</td>\n",
       "      <td>-0.001963</td>\n",
       "      <td>0.016201</td>\n",
       "      <td>-0.150852</td>\n",
       "      <td>-0.085432</td>\n",
       "      <td>1.000000</td>\n",
       "      <td>1.000000</td>\n",
       "    </tr>\n",
       "    <tr>\n",
       "      <th>g/cu</th>\n",
       "      <td>0.062980</td>\n",
       "      <td>-0.001963</td>\n",
       "      <td>0.016201</td>\n",
       "      <td>-0.150852</td>\n",
       "      <td>-0.085432</td>\n",
       "      <td>1.000000</td>\n",
       "      <td>1.000000</td>\n",
       "    </tr>\n",
       "  </tbody>\n",
       "</table>\n",
       "</div>"
      ],
      "text/plain": [
       "             d         m         v      tp/d        tt      e/cu      g/cu\n",
       "d     1.000000  0.171369  0.284365 -0.312248 -0.078955  0.062980  0.062980\n",
       "m     0.171369  1.000000 -0.000480  0.220268  0.189846 -0.001963 -0.001963\n",
       "v     0.284365 -0.000480  1.000000 -0.005942 -0.435421  0.016201  0.016201\n",
       "tp/d -0.312248  0.220268 -0.005942  1.000000  0.740233 -0.150852 -0.150852\n",
       "tt   -0.078955  0.189846 -0.435421  0.740233  1.000000 -0.085432 -0.085432\n",
       "e/cu  0.062980 -0.001963  0.016201 -0.150852 -0.085432  1.000000  1.000000\n",
       "g/cu  0.062980 -0.001963  0.016201 -0.150852 -0.085432  1.000000  1.000000"
      ]
     },
     "execution_count": 10,
     "metadata": {},
     "output_type": "execute_result"
    },
    {
     "data": {
      "image/png": "[encoded data removed]",
      "text/plain": [
       "<matplotlib.figure.Figure at 0x9be8c221d0>"
      ]
     },
     "metadata": {},
     "output_type": "display_data"
    }
   ],
   "source": [
    "#correlation matrix: replace e and cu, with e/cu and g/cu\n",
    "corrmat = dataset[['d', 'm', 'v', 'tp/d', 'tt', 'e/cu', 'g/cu']].corr()\n",
    "f, ax = plt.subplots(figsize=(10, 6))\n",
    "sns.heatmap(corrmat, vmax=0.8, square=True)\n",
    "corrmat"
   ]
  },
  {
   "cell_type": "markdown",
   "metadata": {},
   "source": [
    "The correlations have generally dropped! Let's use the original 'e' and 'cu' as the target variables."
   ]
  },
  {
   "cell_type": "markdown",
   "metadata": {},
   "source": [
    "### 'v2' and 'ike'"
   ]
  },
  {
   "cell_type": "code",
   "execution_count": 11,
   "metadata": {},
   "outputs": [
    {
     "data": {
      "text/html": [
       "<div>\n",
       "<style scoped>\n",
       "    .dataframe tbody tr th:only-of-type {\n",
       "        vertical-align: middle;\n",
       "    }\n",
       "\n",
       "    .dataframe tbody tr th {\n",
       "        vertical-align: top;\n",
       "    }\n",
       "\n",
       "    .dataframe thead th {\n",
       "        text-align: right;\n",
       "    }\n",
       "</style>\n",
       "<table border=\"1\" class=\"dataframe\">\n",
       "  <thead>\n",
       "    <tr style=\"text-align: right;\">\n",
       "      <th></th>\n",
       "      <th>d</th>\n",
       "      <th>m</th>\n",
       "      <th>v</th>\n",
       "      <th>v2</th>\n",
       "      <th>ike</th>\n",
       "      <th>tp/d</th>\n",
       "      <th>tt</th>\n",
       "      <th>lambda</th>\n",
       "      <th>e</th>\n",
       "      <th>cu</th>\n",
       "    </tr>\n",
       "  </thead>\n",
       "  <tbody>\n",
       "    <tr>\n",
       "      <th>d</th>\n",
       "      <td>1.000000</td>\n",
       "      <td>0.171369</td>\n",
       "      <td>0.284365</td>\n",
       "      <td>0.280375</td>\n",
       "      <td>0.352739</td>\n",
       "      <td>-0.312248</td>\n",
       "      <td>-0.078955</td>\n",
       "      <td>0.170552</td>\n",
       "      <td>-0.209341</td>\n",
       "      <td>-0.300248</td>\n",
       "    </tr>\n",
       "    <tr>\n",
       "      <th>m</th>\n",
       "      <td>0.171369</td>\n",
       "      <td>1.000000</td>\n",
       "      <td>-0.000480</td>\n",
       "      <td>0.005482</td>\n",
       "      <td>0.576393</td>\n",
       "      <td>0.220268</td>\n",
       "      <td>0.189846</td>\n",
       "      <td>-0.008402</td>\n",
       "      <td>0.188830</td>\n",
       "      <td>0.265778</td>\n",
       "    </tr>\n",
       "    <tr>\n",
       "      <th>v</th>\n",
       "      <td>0.284365</td>\n",
       "      <td>-0.000480</td>\n",
       "      <td>1.000000</td>\n",
       "      <td>0.983861</td>\n",
       "      <td>0.707335</td>\n",
       "      <td>-0.005942</td>\n",
       "      <td>-0.435421</td>\n",
       "      <td>0.093523</td>\n",
       "      <td>0.276841</td>\n",
       "      <td>0.364458</td>\n",
       "    </tr>\n",
       "    <tr>\n",
       "      <th>v2</th>\n",
       "      <td>0.280375</td>\n",
       "      <td>0.005482</td>\n",
       "      <td>0.983861</td>\n",
       "      <td>1.000000</td>\n",
       "      <td>0.723375</td>\n",
       "      <td>0.006402</td>\n",
       "      <td>-0.390603</td>\n",
       "      <td>0.090246</td>\n",
       "      <td>0.252990</td>\n",
       "      <td>0.327705</td>\n",
       "    </tr>\n",
       "    <tr>\n",
       "      <th>ike</th>\n",
       "      <td>0.352739</td>\n",
       "      <td>0.576393</td>\n",
       "      <td>0.707335</td>\n",
       "      <td>0.723375</td>\n",
       "      <td>1.000000</td>\n",
       "      <td>0.121520</td>\n",
       "      <td>-0.197108</td>\n",
       "      <td>0.066279</td>\n",
       "      <td>0.273428</td>\n",
       "      <td>0.371638</td>\n",
       "    </tr>\n",
       "    <tr>\n",
       "      <th>tp/d</th>\n",
       "      <td>-0.312248</td>\n",
       "      <td>0.220268</td>\n",
       "      <td>-0.005942</td>\n",
       "      <td>0.006402</td>\n",
       "      <td>0.121520</td>\n",
       "      <td>1.000000</td>\n",
       "      <td>0.740233</td>\n",
       "      <td>-0.381876</td>\n",
       "      <td>-0.174410</td>\n",
       "      <td>-0.139742</td>\n",
       "    </tr>\n",
       "    <tr>\n",
       "      <th>tt</th>\n",
       "      <td>-0.078955</td>\n",
       "      <td>0.189846</td>\n",
       "      <td>-0.435421</td>\n",
       "      <td>-0.390603</td>\n",
       "      <td>-0.197108</td>\n",
       "      <td>0.740233</td>\n",
       "      <td>1.000000</td>\n",
       "      <td>-0.318218</td>\n",
       "      <td>-0.335149</td>\n",
       "      <td>-0.406026</td>\n",
       "    </tr>\n",
       "    <tr>\n",
       "      <th>lambda</th>\n",
       "      <td>0.170552</td>\n",
       "      <td>-0.008402</td>\n",
       "      <td>0.093523</td>\n",
       "      <td>0.090246</td>\n",
       "      <td>0.066279</td>\n",
       "      <td>-0.381876</td>\n",
       "      <td>-0.318218</td>\n",
       "      <td>1.000000</td>\n",
       "      <td>-0.076738</td>\n",
       "      <td>-0.096936</td>\n",
       "    </tr>\n",
       "    <tr>\n",
       "      <th>e</th>\n",
       "      <td>-0.209341</td>\n",
       "      <td>0.188830</td>\n",
       "      <td>0.276841</td>\n",
       "      <td>0.252990</td>\n",
       "      <td>0.273428</td>\n",
       "      <td>-0.174410</td>\n",
       "      <td>-0.335149</td>\n",
       "      <td>-0.076738</td>\n",
       "      <td>1.000000</td>\n",
       "      <td>0.747132</td>\n",
       "    </tr>\n",
       "    <tr>\n",
       "      <th>cu</th>\n",
       "      <td>-0.300248</td>\n",
       "      <td>0.265778</td>\n",
       "      <td>0.364458</td>\n",
       "      <td>0.327705</td>\n",
       "      <td>0.371638</td>\n",
       "      <td>-0.139742</td>\n",
       "      <td>-0.406026</td>\n",
       "      <td>-0.096936</td>\n",
       "      <td>0.747132</td>\n",
       "      <td>1.000000</td>\n",
       "    </tr>\n",
       "  </tbody>\n",
       "</table>\n",
       "</div>"
      ],
      "text/plain": [
       "               d         m         v        v2       ike      tp/d        tt  \\\n",
       "d       1.000000  0.171369  0.284365  0.280375  0.352739 -0.312248 -0.078955   \n",
       "m       0.171369  1.000000 -0.000480  0.005482  0.576393  0.220268  0.189846   \n",
       "v       0.284365 -0.000480  1.000000  0.983861  0.707335 -0.005942 -0.435421   \n",
       "v2      0.280375  0.005482  0.983861  1.000000  0.723375  0.006402 -0.390603   \n",
       "ike     0.352739  0.576393  0.707335  0.723375  1.000000  0.121520 -0.197108   \n",
       "tp/d   -0.312248  0.220268 -0.005942  0.006402  0.121520  1.000000  0.740233   \n",
       "tt     -0.078955  0.189846 -0.435421 -0.390603 -0.197108  0.740233  1.000000   \n",
       "lambda  0.170552 -0.008402  0.093523  0.090246  0.066279 -0.381876 -0.318218   \n",
       "e      -0.209341  0.188830  0.276841  0.252990  0.273428 -0.174410 -0.335149   \n",
       "cu     -0.300248  0.265778  0.364458  0.327705  0.371638 -0.139742 -0.406026   \n",
       "\n",
       "          lambda         e        cu  \n",
       "d       0.170552 -0.209341 -0.300248  \n",
       "m      -0.008402  0.188830  0.265778  \n",
       "v       0.093523  0.276841  0.364458  \n",
       "v2      0.090246  0.252990  0.327705  \n",
       "ike     0.066279  0.273428  0.371638  \n",
       "tp/d   -0.381876 -0.174410 -0.139742  \n",
       "tt     -0.318218 -0.335149 -0.406026  \n",
       "lambda  1.000000 -0.076738 -0.096936  \n",
       "e      -0.076738  1.000000  0.747132  \n",
       "cu     -0.096936  0.747132  1.000000  "
      ]
     },
     "execution_count": 11,
     "metadata": {},
     "output_type": "execute_result"
    },
    {
     "data": {
      "image/png": "[encoded data removed]",
      "text/plain": [
       "<matplotlib.figure.Figure at 0x9be5a7ab00>"
      ]
     },
     "metadata": {},
     "output_type": "display_data"
    }
   ],
   "source": [
    "dataset['v2'] = np.square(dataset['v'])\n",
    "#correlation matrix: replace e and cu, with e/cu and g/cu\n",
    "corrmat = dataset[['d', 'm', 'v', 'v2', 'ike', 'tp/d', 'tt', 'lambda', 'e', 'cu']].corr()\n",
    "f, ax = plt.subplots(figsize=(10, 6))\n",
    "sns.heatmap(corrmat, vmax=0.8, square=True)\n",
    "corrmat"
   ]
  },
  {
   "cell_type": "markdown",
   "metadata": {},
   "source": [
    "Doesn't look like 'V2' is actually increasing magnitude of correlation! but this might be too soon to say. What is clear is that to avoid multicollinearity, we must not use all 'm', 'v', 'v2' and 'ike' altogether, but rather independent subsets of them. We will check the performance later in modelling section. "
   ]
  },
  {
   "cell_type": "markdown",
   "metadata": {},
   "source": [
    "### 'tp' instead of 'tp/d'\n",
    "\n",
    "'tp/d' created multicollinearity in the predictor set, which results in poor performance of some classes of ML models. Hence we'd rather keep 'tp' and 'd' separately as part of the features."
   ]
  },
  {
   "cell_type": "code",
   "execution_count": 12,
   "metadata": {},
   "outputs": [
    {
     "data": {
      "text/html": [
       "<div>\n",
       "<style scoped>\n",
       "    .dataframe tbody tr th:only-of-type {\n",
       "        vertical-align: middle;\n",
       "    }\n",
       "\n",
       "    .dataframe tbody tr th {\n",
       "        vertical-align: top;\n",
       "    }\n",
       "\n",
       "    .dataframe thead th {\n",
       "        text-align: right;\n",
       "    }\n",
       "</style>\n",
       "<table border=\"1\" class=\"dataframe\">\n",
       "  <thead>\n",
       "    <tr style=\"text-align: right;\">\n",
       "      <th></th>\n",
       "      <th>d</th>\n",
       "      <th>m</th>\n",
       "      <th>v</th>\n",
       "      <th>tp</th>\n",
       "      <th>tt</th>\n",
       "    </tr>\n",
       "  </thead>\n",
       "  <tbody>\n",
       "    <tr>\n",
       "      <th>d</th>\n",
       "      <td>1.000000</td>\n",
       "      <td>0.171369</td>\n",
       "      <td>0.284365</td>\n",
       "      <td>0.012781</td>\n",
       "      <td>-0.078955</td>\n",
       "    </tr>\n",
       "    <tr>\n",
       "      <th>m</th>\n",
       "      <td>0.171369</td>\n",
       "      <td>1.000000</td>\n",
       "      <td>-0.000480</td>\n",
       "      <td>0.314968</td>\n",
       "      <td>0.189846</td>\n",
       "    </tr>\n",
       "    <tr>\n",
       "      <th>v</th>\n",
       "      <td>0.284365</td>\n",
       "      <td>-0.000480</td>\n",
       "      <td>1.000000</td>\n",
       "      <td>0.079235</td>\n",
       "      <td>-0.435421</td>\n",
       "    </tr>\n",
       "    <tr>\n",
       "      <th>tp</th>\n",
       "      <td>0.012781</td>\n",
       "      <td>0.314968</td>\n",
       "      <td>0.079235</td>\n",
       "      <td>1.000000</td>\n",
       "      <td>0.757213</td>\n",
       "    </tr>\n",
       "    <tr>\n",
       "      <th>tt</th>\n",
       "      <td>-0.078955</td>\n",
       "      <td>0.189846</td>\n",
       "      <td>-0.435421</td>\n",
       "      <td>0.757213</td>\n",
       "      <td>1.000000</td>\n",
       "    </tr>\n",
       "  </tbody>\n",
       "</table>\n",
       "</div>"
      ],
      "text/plain": [
       "           d         m         v        tp        tt\n",
       "d   1.000000  0.171369  0.284365  0.012781 -0.078955\n",
       "m   0.171369  1.000000 -0.000480  0.314968  0.189846\n",
       "v   0.284365 -0.000480  1.000000  0.079235 -0.435421\n",
       "tp  0.012781  0.314968  0.079235  1.000000  0.757213\n",
       "tt -0.078955  0.189846 -0.435421  0.757213  1.000000"
      ]
     },
     "execution_count": 12,
     "metadata": {},
     "output_type": "execute_result"
    },
    {
     "data": {
      "image/png": "[encoded data removed]",
      "text/plain": [
       "<matplotlib.figure.Figure at 0x9beab33f28>"
      ]
     },
     "metadata": {},
     "output_type": "display_data"
    }
   ],
   "source": [
    "dataset['tp'] = dataset.apply(lambda x: x['tp/d']*x['d'], axis=1)\n",
    "corrmat = dataset[['d', 'm', 'v', 'tp', 'tt']].corr()\n",
    "f, ax = plt.subplots(figsize=(10, 6))\n",
    "sns.heatmap(corrmat, vmax=0.8, square=True)\n",
    "corrmat"
   ]
  },
  {
   "cell_type": "markdown",
   "metadata": {},
   "source": [
    "Great! We can obviouly see that the multicollinearity between 'd' and 'tp/d' is now gone by using 'tp' instead of 'tp/d. "
   ]
  },
  {
   "cell_type": "markdown",
   "metadata": {},
   "source": [
    "# Modelling\n",
    "\n",
    "## Phase 1: Regression on Limited Data"
   ]
  },
  {
   "cell_type": "markdown",
   "metadata": {},
   "source": [
    "### Prepare Train and Test Data"
   ]
  },
  {
   "cell_type": "markdown",
   "metadata": {},
   "source": [
    "### IMPORTANT NOTE:\n",
    "I create train data by random picking from the original dataset but in a certain loop aiming at getting a more balanced train dataset in terms of various ranges of target values. Because of randomness, train and test data need to be created once and written out; any further usage must read from csv; The loop can be controled using the flag \"fisrtTime\""
   ]
  },
  {
   "cell_type": "code",
   "execution_count": 43,
   "metadata": {},
   "outputs": [],
   "source": [
    "firstTime = False\n",
    "if firstTime:\n",
    "    targetCols = ['e', 'cu', 'lambda']\n",
    "    trainDf = pd.DataFrame()\n",
    "    for col in targetCols:\n",
    "        for val in dataset[col].unique():\n",
    "            filteredData = dataset[dataset[col] == val]\n",
    "            trainDf = trainDf.append(filteredData.loc[np.random.choice(filteredData.index, 11), :])\n",
    "\n",
    "    trainDf.to_csv(\"../../data/train_data.csv\", index=False)\n",
    "    testDf = pd.concat([dataset, trainDf]).drop_duplicates(keep=False)\n",
    "    testDf.to_csv(\"../../data/test_data.csv\", index=False)\n",
    "else:\n",
    "    trainDf = pd.read_csv(\"../../data/train_data.csv\")\n",
    "    testDf = pd.read_csv(\"../../data/test_data.csv\")"
   ]
  },
  {
   "cell_type": "code",
   "execution_count": 44,
   "metadata": {},
   "outputs": [
    {
     "data": {
      "text/html": [
       "<div>\n",
       "<style scoped>\n",
       "    .dataframe tbody tr th:only-of-type {\n",
       "        vertical-align: middle;\n",
       "    }\n",
       "\n",
       "    .dataframe tbody tr th {\n",
       "        vertical-align: top;\n",
       "    }\n",
       "\n",
       "    .dataframe thead th {\n",
       "        text-align: right;\n",
       "    }\n",
       "</style>\n",
       "<table border=\"1\" class=\"dataframe\">\n",
       "  <thead>\n",
       "    <tr style=\"text-align: right;\">\n",
       "      <th></th>\n",
       "      <th>id</th>\n",
       "      <th>d</th>\n",
       "      <th>lambda</th>\n",
       "      <th>m</th>\n",
       "      <th>v</th>\n",
       "      <th>e</th>\n",
       "      <th>cu</th>\n",
       "      <th>e/cu</th>\n",
       "      <th>g/cu</th>\n",
       "      <th>tp/d</th>\n",
       "      <th>tt</th>\n",
       "      <th>ike</th>\n",
       "      <th>cup</th>\n",
       "      <th>ke/cup</th>\n",
       "      <th>v2</th>\n",
       "      <th>tp</th>\n",
       "    </tr>\n",
       "  </thead>\n",
       "  <tbody>\n",
       "    <tr>\n",
       "      <th>0</th>\n",
       "      <td>1</td>\n",
       "      <td>0.04</td>\n",
       "      <td>0.0</td>\n",
       "      <td>0.1</td>\n",
       "      <td>5</td>\n",
       "      <td>100</td>\n",
       "      <td>1</td>\n",
       "      <td>100</td>\n",
       "      <td>33.333333</td>\n",
       "      <td>4.0678</td>\n",
       "      <td>0.06678</td>\n",
       "      <td>1.25</td>\n",
       "      <td>0.050265</td>\n",
       "      <td>24.867960</td>\n",
       "      <td>25</td>\n",
       "      <td>0.162712</td>\n",
       "    </tr>\n",
       "    <tr>\n",
       "      <th>1</th>\n",
       "      <td>224</td>\n",
       "      <td>0.04</td>\n",
       "      <td>0.2</td>\n",
       "      <td>0.1</td>\n",
       "      <td>10</td>\n",
       "      <td>100</td>\n",
       "      <td>1</td>\n",
       "      <td>100</td>\n",
       "      <td>33.333333</td>\n",
       "      <td>4.7695</td>\n",
       "      <td>0.04346</td>\n",
       "      <td>5.00</td>\n",
       "      <td>0.050265</td>\n",
       "      <td>99.471839</td>\n",
       "      <td>100</td>\n",
       "      <td>0.190780</td>\n",
       "    </tr>\n",
       "    <tr>\n",
       "      <th>2</th>\n",
       "      <td>230</td>\n",
       "      <td>0.08</td>\n",
       "      <td>0.2</td>\n",
       "      <td>0.2</td>\n",
       "      <td>10</td>\n",
       "      <td>100</td>\n",
       "      <td>1</td>\n",
       "      <td>100</td>\n",
       "      <td>33.333333</td>\n",
       "      <td>1.5544</td>\n",
       "      <td>0.02720</td>\n",
       "      <td>10.00</td>\n",
       "      <td>0.402124</td>\n",
       "      <td>24.867960</td>\n",
       "      <td>100</td>\n",
       "      <td>0.124352</td>\n",
       "    </tr>\n",
       "    <tr>\n",
       "      <th>3</th>\n",
       "      <td>122</td>\n",
       "      <td>0.08</td>\n",
       "      <td>0.1</td>\n",
       "      <td>0.5</td>\n",
       "      <td>10</td>\n",
       "      <td>100</td>\n",
       "      <td>1</td>\n",
       "      <td>100</td>\n",
       "      <td>33.333333</td>\n",
       "      <td>4.0028</td>\n",
       "      <td>0.07452</td>\n",
       "      <td>25.00</td>\n",
       "      <td>0.402124</td>\n",
       "      <td>62.169900</td>\n",
       "      <td>100</td>\n",
       "      <td>0.320224</td>\n",
       "    </tr>\n",
       "    <tr>\n",
       "      <th>4</th>\n",
       "      <td>116</td>\n",
       "      <td>0.04</td>\n",
       "      <td>0.1</td>\n",
       "      <td>0.5</td>\n",
       "      <td>5</td>\n",
       "      <td>100</td>\n",
       "      <td>1</td>\n",
       "      <td>100</td>\n",
       "      <td>33.333333</td>\n",
       "      <td>11.0397</td>\n",
       "      <td>0.17186</td>\n",
       "      <td>6.25</td>\n",
       "      <td>0.050265</td>\n",
       "      <td>124.339799</td>\n",
       "      <td>25</td>\n",
       "      <td>0.441588</td>\n",
       "    </tr>\n",
       "  </tbody>\n",
       "</table>\n",
       "</div>"
      ],
      "text/plain": [
       "    id     d  lambda    m   v    e  cu  e/cu       g/cu     tp/d       tt  \\\n",
       "0    1  0.04     0.0  0.1   5  100   1   100  33.333333   4.0678  0.06678   \n",
       "1  224  0.04     0.2  0.1  10  100   1   100  33.333333   4.7695  0.04346   \n",
       "2  230  0.08     0.2  0.2  10  100   1   100  33.333333   1.5544  0.02720   \n",
       "3  122  0.08     0.1  0.5  10  100   1   100  33.333333   4.0028  0.07452   \n",
       "4  116  0.04     0.1  0.5   5  100   1   100  33.333333  11.0397  0.17186   \n",
       "\n",
       "     ike       cup      ke/cup   v2        tp  \n",
       "0   1.25  0.050265   24.867960   25  0.162712  \n",
       "1   5.00  0.050265   99.471839  100  0.190780  \n",
       "2  10.00  0.402124   24.867960  100  0.124352  \n",
       "3  25.00  0.402124   62.169900  100  0.320224  \n",
       "4   6.25  0.050265  124.339799   25  0.441588  "
      ]
     },
     "execution_count": 44,
     "metadata": {},
     "output_type": "execute_result"
    }
   ],
   "source": [
    "trainDf.head()"
   ]
  },
  {
   "cell_type": "markdown",
   "metadata": {},
   "source": [
    "### Normality of target variables\n",
    "\n",
    "This is for the current analysis where we want to use Regression models for the task of prediction. We have to remember that this type of problem could also be modelled as a Classification problem, where instead of predicting continuous values of the target variable, we model the target as classes (e.g. example classes (bins) for cu: 0 to 5, 5 to 10, 10 to 20, 20 to 30 etc). I do recommend that we visit this as well, perhaps after Regression modelling.\n",
    "\n",
    "This is aming at improving the prediction power of models further down the road. Normality of the arget variable is one of the Assumptions of Linear Regressi"
   ]
  },
  {
   "cell_type": "code",
   "execution_count": 45,
   "metadata": {},
   "outputs": [
    {
     "name": "stdout",
     "output_type": "stream",
     "text": [
      "Skew is: 1.73627534334192\n"
     ]
    },
    {
     "data": {
      "image/png": "[encoded data removed]",
      "text/plain": [
       "<matplotlib.figure.Figure at 0x4ab5a7bcf8>"
      ]
     },
     "metadata": {},
     "output_type": "display_data"
    },
    {
     "name": "stdout",
     "output_type": "stream",
     "text": [
      "Skew is: -0.17387084565429226\n"
     ]
    },
    {
     "data": {
      "image/png": "[encoded data removed]",
      "text/plain": [
       "<matplotlib.figure.Figure at 0x4ab59dc588>"
      ]
     },
     "metadata": {},
     "output_type": "display_data"
    }
   ],
   "source": [
    "#Check skewness of the original data\n",
    "print (\"Skew is:\", trainDf['e'].skew())\n",
    "plt.hist(trainDf['e'], color='blue')\n",
    "plt.show()\n",
    "\n",
    "#Does log transformation make things better?\n",
    "target = np.log(trainDf.loc[trainDf['e']>0,'e'])\n",
    "print (\"Skew is:\", target.skew())\n",
    "plt.hist(target, color='blue')\n",
    "plt.show()\n",
    "\n",
    "#Yes, log is less skewed, so lets transform the original values\n",
    "trainDf['e'] = np.log(trainDf['e'])"
   ]
  },
  {
   "cell_type": "code",
   "execution_count": 46,
   "metadata": {},
   "outputs": [
    {
     "name": "stdout",
     "output_type": "stream",
     "text": [
      "Skew is: 0.7818200228168004\n"
     ]
    },
    {
     "data": {
      "image/png": "[encoded data removed]",
      "text/plain": [
       "<matplotlib.figure.Figure at 0x4ab5a38320>"
      ]
     },
     "metadata": {},
     "output_type": "display_data"
    },
    {
     "name": "stdout",
     "output_type": "stream",
     "text": [
      "Skew is: -0.3694991992323276\n"
     ]
    },
    {
     "data": {
      "image/png": "[encoded data removed]",
      "text/plain": [
       "<matplotlib.figure.Figure at 0x4ab5b644e0>"
      ]
     },
     "metadata": {},
     "output_type": "display_data"
    }
   ],
   "source": [
    "#Check skewness of the original data\n",
    "print (\"Skew is:\", trainDf['cu'].skew())\n",
    "plt.hist(trainDf['cu'], color='blue')\n",
    "plt.show()\n",
    "\n",
    "#Does log transformation make things better?\n",
    "target = np.log(trainDf.loc[trainDf['cu']>0,'cu'])\n",
    "print (\"Skew is:\", target.skew())\n",
    "plt.hist(target, color='blue')\n",
    "plt.show()\n",
    "\n",
    "#Yes, log is less skewed, so lets transform the original values\n",
    "trainDf['cu'] = np.log(trainDf['cu'])"
   ]
  },
  {
   "cell_type": "markdown",
   "metadata": {},
   "source": [
    "'e' and 'cu' do benefit from log transformation in terms of getting them closer to normality. However, 'lambda' has only 3 values, one of which is zero. Hence, it would not benefit from log transfromation."
   ]
  },
  {
   "cell_type": "code",
   "execution_count": 47,
   "metadata": {},
   "outputs": [
    {
     "name": "stdout",
     "output_type": "stream",
     "text": [
      "Skew is: 0.5031080166531708\n"
     ]
    },
    {
     "data": {
      "image/png": "[encoded data removed]",
      "text/plain": [
       "<matplotlib.figure.Figure at 0x4ab59c69b0>"
      ]
     },
     "metadata": {},
     "output_type": "display_data"
    },
    {
     "name": "stdout",
     "output_type": "stream",
     "text": [
      "Skew is: 0.12489383391756997\n"
     ]
    },
    {
     "data": {
      "image/png": "[encoded data removed]",
      "text/plain": [
       "<matplotlib.figure.Figure at 0x4ab5bfd8d0>"
      ]
     },
     "metadata": {},
     "output_type": "display_data"
    }
   ],
   "source": [
    "#Check skewness of the original data\n",
    "print (\"Skew is:\", trainDf['e/cu'].skew())\n",
    "plt.hist(trainDf['e/cu'], color='blue')\n",
    "plt.show()\n",
    "\n",
    "#Does log transformation make things better?\n",
    "target = np.log(trainDf.loc[trainDf['e/cu']>0,'e/cu'])\n",
    "print (\"Skew is:\", target.skew())\n",
    "plt.hist(target, color='blue')\n",
    "plt.show()\n",
    "\n",
    "#Yes, log is less skewed, so lets transform the original values\n",
    "#trainDf['e/cu'] = np.log(trainDf['e/cu'])"
   ]
  },
  {
   "cell_type": "code",
   "execution_count": 109,
   "metadata": {},
   "outputs": [],
   "source": [
    "def prepareTrainAndTest(data, predictors):\n",
    "    XDict = {}\n",
    "    yDict = {}\n",
    "    for key in predictors.keys():\n",
    "        XDict[key] = data[predictors[key]]\n",
    "        yDict[key] = data[key]\n",
    "    \n",
    "    return (XDict, yDict)\n",
    "    \n",
    "predictors = {'cu': ['m', 'v', 'd', 'tt', 'tp', 'ike'], \n",
    "              'e': ['m', 'v', 'd', 'tt', 'tp', 'ike'], \n",
    "              'lambda': ['m', 'v', 'd', 'tt', 'tp', 'ike']}\n",
    "\n",
    "(X_trainDict, y_trainDict) = prepareTrainAndTest(trainDf, predictors)\n",
    "(X_testDict, y_testDict) = prepareTrainAndTest(testDf, predictors)"
   ]
  },
  {
   "cell_type": "markdown",
   "metadata": {},
   "source": [
    "### Scaling"
   ]
  },
  {
   "cell_type": "code",
   "execution_count": 110,
   "metadata": {},
   "outputs": [],
   "source": [
    "from sklearn.preprocessing import StandardScaler\n",
    "def standardSaleData(X_train, X_test, y_train):\n",
    "    sc_X = {}\n",
    "    sc_y = {}\n",
    "    for key in X_train.keys():\n",
    "        sc_X[key] = StandardScaler()\n",
    "        X_train[key] = sc_X[key].fit_transform(X_train[key].values)\n",
    "        X_test[key] = sc_X[key].transform(X_test[key].values)\n",
    "    \n",
    "        sc_y[key] = StandardScaler()\n",
    "        y_train[key] = sc_y[key].fit_transform(y_train[key].values.reshape(-1, 1))\n",
    "    \n",
    "    return sc_y\n",
    "\n",
    "sc_yDict = standardSaleData(X_trainDict, X_testDict, y_trainDict)"
   ]
  },
  {
   "cell_type": "code",
   "execution_count": 111,
   "metadata": {},
   "outputs": [],
   "source": [
    "#****************** Ensemble Models *******************************************\n",
    "from sklearn.linear_model import LinearRegression, Lasso, Ridge, ElasticNet, BayesianRidge, ARDRegression\n",
    "from sklearn.neural_network import MLPRegressor\n",
    "from sklearn.svm import SVR\n",
    "from sklearn.discriminant_analysis import LinearDiscriminantAnalysis, QuadraticDiscriminantAnalysis\n",
    "from sklearn.ensemble import AdaBoostRegressor, RandomForestRegressor, BaggingRegressor\n",
    "from xgboost import XGBRegressor\n",
    "from sklearn.decomposition import KernelPCA\n",
    "from sklearn.model_selection import GridSearchCV, cross_val_score\n",
    "\n",
    "#Modeling step Test differents algorithms \n",
    "random_state = 0\n",
    "regressors = []\n",
    "regNames = []\n",
    "\n",
    "regressors.append(LinearRegression())\n",
    "#regressors.append(Lasso(random_state=random_state))\n",
    "regressors.append(Ridge(random_state=random_state))\n",
    "#regressors.append(ElasticNet(random_state=random_state))\n",
    "regressors.append(BayesianRidge())\n",
    "regressors.append(ARDRegression())\n",
    "\n",
    "regressors.append(MLPRegressor(random_state=random_state))\n",
    "regressors.append(SVR(kernel='linear'))\n",
    "#regressors.append(SVR(kernel='poly', degree=2))\n",
    "#regressors.append(SVR(kernel='poly'))\n",
    "regressors.append(SVR(kernel='rbf'))\n",
    "\n",
    "#regressors.append(AdaBoostRegressor(random_state=random_state))\n",
    "regressors.append(RandomForestRegressor(random_state=random_state))\n",
    "regressors.append(BaggingRegressor(random_state=random_state))\n",
    "\n",
    "regressors.append(XGBRegressor(random_state=random_state))\n",
    "\n",
    "regNames = [\"LR\", \"L2\", \"BR\", \"ARD\", \"MLP\", \"SVR-LR\", \"SVR-Rbf\", \"RF\", \"Bag\", \"XGB\"]\n",
    "scorers = [\"r2\"]\n",
    "\n",
    "#print(regressors)"
   ]
  },
  {
   "cell_type": "code",
   "execution_count": 112,
   "metadata": {},
   "outputs": [],
   "source": [
    "def transformWithKernelPca(X):\n",
    "    transformer = KernelPCA(n_components=5, kernel='poly', degree = 2, random_state = 0, gamma = 0.09)\n",
    "    return transformer.fit_transform(X)\n",
    "    \n",
    "def plotCVResults(data, stdData, title, figNum):\n",
    "    plt.figure(figNum)\n",
    "    g = sns.barplot(\"CrossValMeans\", \"Algorithm\", data = data, palette=\"Set3\", orient = \"h\", **{'xerr':stdData})\n",
    "    g.set_title(title)\n",
    "    \n",
    "def obtainCVRegressionResults(X, y, scorer, title, regNames, regressors, figNum = 0, withPlot = True, printFlag = True):\n",
    "    cvResults = []\n",
    "    names = []\n",
    "    for index, regressor in enumerate(regressors):\n",
    "        try:\n",
    "            cvResults.append(cross_val_score(regressor, X, y = y, scoring = scorer, cv = 10, n_jobs = 1))\n",
    "            names.append(regNames[index])\n",
    "        except:\n",
    "            print(\"Regressor \", regNames[index], \"generated an error!\")\n",
    "\n",
    "    cvMeans = []\n",
    "    cvStd = []\n",
    "    for cvResult in cvResults:\n",
    "        cvMeans.append(cvResult.mean())\n",
    "        cvStd.append(cvResult.std())\n",
    "\n",
    "    cvRes = pd.DataFrame({\"CrossValMeans\":cvMeans, \"CrossValerrors\":cvStd, \"Algorithm\":names})\n",
    "    \n",
    "    if printFlag:\n",
    "        print(title)\n",
    "        print(cvRes,\"\\n\")\n",
    "    \n",
    "    if withPlot:\n",
    "        plotCVResults(cvRes, cvStd, title, figNum)\n",
    "    \n",
    "    return cvRes    \n",
    "    \n",
    "def runAllModelsWithAllMetrics(X, y, targetVar, scorers, regNames, regressors, figNumRoot = 0, withKernelPca = False, withPlot = True):\n",
    "    if withKernelPca:\n",
    "        X = transformWithKernelPca(X)\n",
    "    for index, metric in enumerate(scorers):\n",
    "        title = \"Modelling '\"+str(targetVar)+\"' - Metric: \"+str(metric)\n",
    "        obtainCVRegressionResults(X, y, metric, title, regNames, regressors, figNum=figNumRoot+index, withPlot = withPlot)\n",
    "        \n",
    "def runAllModelsForAllTargetVariables(X_Dict, y_Dict, scorers, regNames, regressors, withKernelPca = False, withPlot = True):\n",
    "    for index, targetVar in enumerate(X_Dict.keys()):       \n",
    "        runAllModelsWithAllMetrics(X_Dict[targetVar], y_Dict[targetVar], targetVar, scorers, regNames, regressors, figNumRoot = index, withKernelPca = withKernelPca, withPlot = withPlot)"
   ]
  },
  {
   "cell_type": "code",
   "execution_count": 113,
   "metadata": {
    "scrolled": false
   },
   "outputs": [
    {
     "name": "stdout",
     "output_type": "stream",
     "text": [
      "Modelling 'cu' - Metric: r2\n",
      "  Algorithm  CrossValMeans  CrossValerrors\n",
      "0        LR       0.288115        0.621979\n",
      "1        L2       0.300198        0.631473\n",
      "2        BR       0.292517        0.623572\n",
      "3       ARD       0.318690        0.604595\n",
      "4       MLP       0.478318        0.503059\n",
      "5    SVR-LR       0.294882        0.618943\n",
      "6   SVR-Rbf       0.430098        0.468482\n",
      "7        RF       0.697250        0.355069\n",
      "8       Bag       0.706962        0.334601\n",
      "9       XGB       0.743513        0.268808 \n",
      "\n",
      "Modelling 'e' - Metric: r2\n",
      "  Algorithm  CrossValMeans  CrossValerrors\n",
      "0        LR      -0.424695        1.333093\n",
      "1        L2      -0.408364        1.389989\n",
      "2        BR      -0.416891        1.354288\n",
      "3       ARD      -0.414431        1.346780\n",
      "4       MLP      -0.240942        1.201021\n",
      "5    SVR-LR      -0.506383        1.561215\n",
      "6   SVR-Rbf      -0.446592        1.643918\n",
      "7        RF      -0.537943        1.959493\n",
      "8       Bag      -0.492042        1.862706\n",
      "9       XGB      -0.312154        1.549858 \n",
      "\n",
      "Modelling 'lambda' - Metric: r2\n",
      "  Algorithm  CrossValMeans  CrossValerrors\n",
      "0        LR      -0.426860        0.896916\n",
      "1        L2      -0.419560        0.897840\n",
      "2        BR      -0.429089        0.908982\n",
      "3       ARD      -0.503797        0.931813\n",
      "4       MLP      -0.296677        0.781929\n",
      "5    SVR-LR      -0.644021        1.127567\n",
      "6   SVR-Rbf      -0.577189        1.075468\n",
      "7        RF      -0.000956        0.399159\n",
      "8       Bag      -0.012943        0.416254\n",
      "9       XGB      -0.004959        0.517532 \n",
      "\n"
     ]
    }
   ],
   "source": [
    "runAllModelsForAllTargetVariables(X_trainDict, y_trainDict, scorers, regNames, regressors, withKernelPca = True, withPlot = False)"
   ]
  },
  {
   "cell_type": "markdown",
   "metadata": {},
   "source": [
    "## Feature Selection\n",
    "\n",
    "With XGB as the selected regressor, we'd like to have a view on how various feature sets can affect the accuracy of predictions. It is just experimental!"
   ]
  },
  {
   "cell_type": "code",
   "execution_count": 22,
   "metadata": {},
   "outputs": [],
   "source": [
    "from itertools import combinations\n",
    "def getSubLists(myList, exceptions, mustHave):\n",
    "    x = len(myList)\n",
    "    subs = []\n",
    "    for i in range(1 << x):\n",
    "        sub = [myList[j] for j in range(x) if (i & (1 << j))]\n",
    "        #print(sub)\n",
    "        if not(sub in exceptions) and (len(sub) > 1) and (set(mustHave).issubset(set(sub))):\n",
    "            subs.append(sub)\n",
    "    return subs\n",
    "\n",
    "potentialFeatures_cu = getSubLists(['m', 'v', 'v2', 'd', 'tt', 'tp', 'tp/d', 'ike'], [[]], [])\n",
    "potentialFeatures_other = getSubLists(['m', 'v', 'v2', 'd', 'tt', 'tp', 'tp/d', 'ike', 'cup', 'ke/cup'], [[]], [])\n",
    "\n",
    "potentialPredictors = []\n",
    "for featureSet_cu in potentialFeatures_cu:\n",
    "    for featureSet_other in potentialFeatures_other:\n",
    "        potentialPredictors.append({'cu': featureSet_cu, 'e': featureSet_other, 'lambda': featureSet_other})"
   ]
  },
  {
   "cell_type": "code",
   "execution_count": null,
   "metadata": {},
   "outputs": [],
   "source": [
    "bestRes = {'cu': -1000, 'e': -1000, 'lambda': -1000} \n",
    "bestPredictorIndicesAndRegressor = {'cu': [0, \"\"], 'e': [0, \"\"], 'lambda': [0, \"\"]} \n",
    "results = {} \n",
    "\n",
    "for regIndex, regressor in enumerate(regressors):\n",
    "    results[regressor] = {}\n",
    "    for index, predictors in enumerate(potentialPredictors):\n",
    "        (X_trainDict, y_trainDict) = prepareTrainAndTest(trainDf, predictors)\n",
    "        (X_testDict, y_testDict) = prepareTrainAndTest(testDf, predictors)\n",
    "        sc_yDict = standardSaleData(X_trainDict, X_testDict, y_trainDict)\n",
    "        results[regressor][index] = {}\n",
    "        for targetVar in X_trainDict.keys():\n",
    "            results[regressor][index][targetVar] = obtainCVRegressionResults(X_trainDict[targetVar], y_trainDict[targetVar], \n",
    "                                                                  \"r2\", \n",
    "                                                                  \"Predictor set of index \"+str(index)+\" for target \"+str(targetVar),  \n",
    "                                                                  [regNames[regIndex]], [regressor], withPlot = False, printFlag = False)\n",
    "        if results[regressor][index][targetVar].iloc[0, 1] > bestRes[targetVar]:\n",
    "            bestRes[targetVar] = results[regressor][index][targetVar].iloc[0, 1]\n",
    "            bestPredictorIndicesAndRegressor[targetVar] = [index, regIndex]"
   ]
  },
  {
   "cell_type": "code",
   "execution_count": null,
   "metadata": {},
   "outputs": [],
   "source": [
    "print(bestRes)\n",
    "print(bestPredictorIndicesAndRegressor)"
   ]
  },
  {
   "cell_type": "markdown",
   "metadata": {},
   "source": [
    "## Prediction"
   ]
  },
  {
   "cell_type": "code",
   "execution_count": null,
   "metadata": {},
   "outputs": [],
   "source": [
    "def reverseTransformPredictions(preds, sc, logFlag):\n",
    "    res = sc.inverse_transform(preds)\n",
    "    if logFlag:\n",
    "        return np.exp(res)\n",
    "    return res\n",
    "\n",
    "predictors = {'cu': potentialPredictors[bestPredictorIndicesAndRegressor['cu'][0]]['cu'], \n",
    "              'e': potentialPredictors[bestPredictorIndicesAndRegressor['e'][0]]['e'], \n",
    "              'lambda': potentialPredictors[bestPredictorIndicesAndRegressor['lambda'][0]]['lambda']}\n",
    "\n",
    "(X_trainDict, y_trainDict) = prepareTrainAndTest(trainDf, predictors)\n",
    "(X_testDict, y_testDict) = prepareTrainAndTest(testDf, predictors)\n",
    "sc_yDict = standardSaleData(X_trainDict, X_testDict, y_trainDict)\n",
    "\n",
    "testData = testDf.copy(deep=True)\n",
    "logFlags = {'cu':True, 'e':True, 'lambda':False}\n",
    "for targetVar in X_trainDict.keys():\n",
    "    reg = regressors[bestPredictorIndicesAndRegressor[targetVar][1]] #XGBRegressor(random_state=random_state)\n",
    "    reg.fit(X_trainDict[targetVar], y_trainDict[targetVar])\n",
    "    yResults = reg.predict(X_testDict[targetVar])\n",
    "    testData[str(targetVar)+\"_pred\"] = reverseTransformPredictions(yResults, sc_yDict[targetVar], logFlags[targetVar])\n",
    "    testData[str(targetVar)+\"_method\"] = [regNames[bestPredictorIndicesAndRegressor[targetVar][1]] for i in range(0, testData.shape[0])]\n",
    "    \n",
    "testData.to_csv(\"../../data/output/best_model_best_features_predictions.csv\", index=False)"
   ]
  },
  {
   "cell_type": "code",
   "execution_count": null,
   "metadata": {},
   "outputs": [],
   "source": [
    "#**********************GRID SEARCH ********************************************\n",
    "from sklearn.model_selection import GridSearchCV\n",
    "def evaluateModelPerformance(est, params, X, y):\n",
    "    grid_search = GridSearchCV(estimator = est,\n",
    "                               param_grid = params,\n",
    "                               scoring = \"neg_mean_squared_error\",\n",
    "                               cv = 5, n_jobs = 3)\n",
    "    \n",
    "    grid_search = grid_search.fit(X, y)\n",
    "    best_accuracy = grid_search.best_score_\n",
    "    best_parameters = grid_search.best_params_\n",
    "    return best_accuracy, best_parameters\n",
    "#******************************************************************************    \n",
    "#****************** XGBoost ***************************************************\n",
    "tuningDict = {}\n",
    "# Fitting XGBoost to the Training set\n",
    "from xgboost import XGBRegressor\n",
    "regressor = XGBRegressor()\n",
    "#regressor.fit(X, y)"
   ]
  },
  {
   "cell_type": "code",
   "execution_count": null,
   "metadata": {},
   "outputs": [],
   "source": [
    "#Step All:\n",
    "parameters = {'n_estimators': [i for i in range(400, 1000, 50)],\n",
    "             'learning_rate': [0.1],\n",
    "             'max_depth': [i for i in range(3,8)],\n",
    "             'min_child_weight': [3, 4, 5, 6, 7, 8],\n",
    "             'gamma': [i*0.1 for i in range(0, 85, 5)],\n",
    "             'subsample': [0.3, 0.4, 0.5, 0.6, 0.7, 0.8, 0.9, 1.0],\n",
    "             'colsample_bytree': [0.1, 0.2, 0.3, 0.4, 0.5, 0.6, 0.7, 0.8, 0.9, 1.0],\n",
    "             'reg_alpha':[0.001, 0.005, 0.1, 0.2, 0.3, 0.4, 0.5, 0.6, 0.7, 0.8, 0.9, 1.0],\n",
    "             'reg_lambda':[0.001, 0.005, 0.1, 0.2, 0.3, 0.4, 0.5, 0.6, 0.7, 0.8, 0.9, 1.0]}\n",
    "\n",
    "score, params = evaluateModelPerformance(regressor, parameters, X, y)\n",
    "tuningDict['Step-All'] = {'params': params, 'score': score}\n",
    "print(tuningDict)"
   ]
  },
  {
   "cell_type": "code",
   "execution_count": null,
   "metadata": {},
   "outputs": [],
   "source": [
    "#Step 1:fix learning rate and determine optimum n_estimators:\n",
    "parameters = {'n_estimators': [i for i in range(400, 1000, 50)],\n",
    "             'learning_rate': [0.1]}\n",
    "\n",
    "score, params = evaluateModelPerformance(regressor, parameters, X, y)\n",
    "tuningDict['Step-1'] = {'params': params, 'score': score}\n",
    "print(tuningDict)"
   ]
  },
  {
   "cell_type": "code",
   "execution_count": null,
   "metadata": {},
   "outputs": [],
   "source": [
    "#Step 2:Tune max_depth and min_child_weight:\n",
    "parameters = {'n_estimators': [600],\n",
    "             'learning_rate': [0.1],\n",
    "             'max_depth': [i for i in range(3,11)],\n",
    "             'min_child_weight': [1, 2, 3, 5, 6, 7, 8, 9, 10]}\n",
    "score, params = evaluateModelPerformance(regressor, parameters, X, y)\n",
    "tuningDict['Step-2'] = {'params': params, 'score': score}\n",
    "print(tuningDict)"
   ]
  },
  {
   "cell_type": "code",
   "execution_count": null,
   "metadata": {},
   "outputs": [],
   "source": [
    "#Step 3:Tune gamma:\n",
    "parameters = {'n_estimators': [600],\n",
    "             'learning_rate': [0.1],\n",
    "             'max_depth': [4],\n",
    "             'min_child_weight': [5],\n",
    "             'gamma': [i*0.1 for i in range(0, 100, 2)]}\n",
    "\n",
    "score, params = evaluateModelPerformance(regressor, parameters, X, y)\n",
    "tuningDict['Step-3'] = {'params': params, 'score': score}\n",
    "print(tuningDict)"
   ]
  },
  {
   "cell_type": "code",
   "execution_count": null,
   "metadata": {},
   "outputs": [],
   "source": [
    "#Step 4:Tune subsample and colsample_bytree:\n",
    "parameters = {'n_estimators': [600],\n",
    "             'learning_rate': [0.1],\n",
    "             'max_depth': [4],\n",
    "             'min_child_weight': [5],\n",
    "             'gamma': [4.0],\n",
    "             'subsample': [0.3, 0.4, 0.5, 0.6, 0.7, 0.8, 0.9, 1.0],\n",
    "             'colsample_bytree': [0.1, 0.2, 0.3, 0.4, 0.5, 0.6, 0.7, 0.8, 0.9, 1.0]}\n",
    "\n",
    "score, params = evaluateModelPerformance(regressor, parameters, X, y)\n",
    "tuningDict['Step-4'] = {'params': params, 'score': score}\n",
    "print(tuningDict)"
   ]
  },
  {
   "cell_type": "code",
   "execution_count": null,
   "metadata": {},
   "outputs": [],
   "source": [
    "#Step 5:Tuning Regularization Parameters:\n",
    "parameters = {'n_estimators': [150],\n",
    "             'learning_rate': [0.1],\n",
    "             'max_depth': [3],\n",
    "             'min_child_weight': [1],\n",
    "             'gamma': [0.0],\n",
    "             'subsample': [1.0],\n",
    "             'colsample_bytree': [1.0],\n",
    "             'reg_alpha':[0.001, 0.005, 0.1, 0.2, 0.3, 0.4, 0.5, 0.6, 0.7, 0.8, 0.9, 1.0],\n",
    "             'reg_lambda':[0.001, 0.005, 0.1, 0.2, 0.3, 0.4, 0.5, 0.6, 0.7, 0.8, 0.9, 1.0]}\n",
    "\n",
    "score, params = evaluateModelPerformance(regressor, parameters, X, y)\n",
    "tuningDict['Step-5'] = {'params': params, 'score': score}\n",
    "print(tuningDict)"
   ]
  },
  {
   "cell_type": "code",
   "execution_count": null,
   "metadata": {},
   "outputs": [],
   "source": [
    "#Step 6: Tuning (decreasing) learning rate and n_estimators again:\n",
    "parameters = {'n_estimators': [50*i for i in range(1, 20, 1)],\n",
    "             'learning_rate': [0.01*i for i in range(1, 11, 1)],\n",
    "             'max_depth': [3],\n",
    "             'min_child_weight': [1],\n",
    "             'gamma': [0.0],\n",
    "             'subsample': [1.0],\n",
    "             'colsample_bytree': [1.0],\n",
    "             'reg_alpha':[0.4],\n",
    "             'reg_lambda':[0.9]}\n",
    "\n",
    "score, params = evaluateModelPerformance(regressor, parameters, X, y)\n",
    "tuningDict['Step-6'] = {'params': params, 'score': score}\n",
    "print(tuningDict)"
   ]
  },
  {
   "cell_type": "code",
   "execution_count": null,
   "metadata": {},
   "outputs": [],
   "source": [
    "# Fitting tuned XGBoost and get the results\n",
    "classifier = XGBClassifier(n_estimators= 150,\n",
    "             learning_rate= 0.1,\n",
    "             max_depth= 3,\n",
    "             min_child_weight= 1,\n",
    "             gamma= 0.0,\n",
    "             subsample= 1.0,\n",
    "             colsample_bytree= 1.0,\n",
    "             reg_alpha= 0.3,\n",
    "             reg_lambda= 0.4)\n",
    "\n",
    "classifier.fit(X_used, y)\n",
    "y_results = classifier.predict(X_target)"
   ]
  }
 ],
 "metadata": {
  "kernelspec": {
   "display_name": "Python 3",
   "language": "python",
   "name": "python3"
  },
  "language_info": {
   "codemirror_mode": {
    "name": "ipython",
    "version": 3
   },
   "file_extension": ".py",
   "mimetype": "text/x-python",
   "name": "python",
   "nbconvert_exporter": "python",
   "pygments_lexer": "ipython3",
   "version": "3.6.4"
  }
 },
 "nbformat": 4,
 "nbformat_minor": 2
}
